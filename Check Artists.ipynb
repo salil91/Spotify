{
 "cells": [
  {
   "cell_type": "markdown",
   "metadata": {},
   "source": [
    "# Check Spotify Artists"
   ]
  },
  {
   "cell_type": "code",
   "execution_count": 8,
   "metadata": {},
   "outputs": [],
   "source": [
    "from new_tracks import ReleaseRadar\n",
    "\n",
    "spotify_yaml = \"spotify.yaml\"\n",
    "genre = \"bachata\"\n",
    "\n",
    "rr = ReleaseRadar(spotify_yaml, genre)\n",
    "sp = rr.initialize_spotipy_client()"
   ]
  },
  {
   "cell_type": "code",
   "execution_count": 13,
   "metadata": {},
   "outputs": [
    {
     "data": {
      "text/plain": [
       "{'external_urls': {'spotify': 'https://open.spotify.com/artist/6FdgIggKvVgdMenO8cnnBA'},\n",
       " 'followers': {'href': None, 'total': 3444},\n",
       " 'genres': [],\n",
       " 'href': 'https://api.spotify.com/v1/artists/6FdgIggKvVgdMenO8cnnBA',\n",
       " 'id': '6FdgIggKvVgdMenO8cnnBA',\n",
       " 'images': [{'url': 'https://i.scdn.co/image/ab6761610000e5ebfde7140814b0f28b044447e0',\n",
       "   'height': 640,\n",
       "   'width': 640},\n",
       "  {'url': 'https://i.scdn.co/image/ab67616100005174fde7140814b0f28b044447e0',\n",
       "   'height': 320,\n",
       "   'width': 320},\n",
       "  {'url': 'https://i.scdn.co/image/ab6761610000f178fde7140814b0f28b044447e0',\n",
       "   'height': 160,\n",
       "   'width': 160}],\n",
       " 'name': 'Mayinbito',\n",
       " 'popularity': 43,\n",
       " 'type': 'artist',\n",
       " 'uri': 'spotify:artist:6FdgIggKvVgdMenO8cnnBA'}"
      ]
     },
     "execution_count": 13,
     "metadata": {},
     "output_type": "execute_result"
    }
   ],
   "source": [
    "uri = \"6FdgIggKvVgdMenO8cnnBA\"\n",
    "urn = f\"spotify:artist:{uri}\"\n",
    "sp.artist(urn)"
   ]
  },
  {
   "cell_type": "code",
   "execution_count": null,
   "metadata": {},
   "outputs": [],
   "source": []
  }
 ],
 "metadata": {
  "kernelspec": {
   "display_name": "spotify",
   "language": "python",
   "name": "python3"
  },
  "language_info": {
   "codemirror_mode": {
    "name": "ipython",
    "version": 3
   },
   "file_extension": ".py",
   "mimetype": "text/x-python",
   "name": "python",
   "nbconvert_exporter": "python",
   "pygments_lexer": "ipython3",
   "version": "3.12.3"
  }
 },
 "nbformat": 4,
 "nbformat_minor": 2
}
