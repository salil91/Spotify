{
 "cells": [
  {
   "cell_type": "markdown",
   "metadata": {},
   "source": [
    "# Spotify Artists"
   ]
  },
  {
   "cell_type": "code",
   "execution_count": 1,
   "metadata": {},
   "outputs": [],
   "source": [
    "import csv\n",
    "\n",
    "from new_tracks import ReleaseRadar"
   ]
  },
  {
   "cell_type": "code",
   "execution_count": 2,
   "metadata": {},
   "outputs": [],
   "source": [
    "spotify_yaml = \"spotify.yaml\"\n",
    "genre = \"bachata\"\n",
    "\n",
    "rr = ReleaseRadar(spotify_yaml, genre)\n",
    "sp = rr.initialize_spotipy_client()"
   ]
  },
  {
   "cell_type": "markdown",
   "metadata": {},
   "source": [
    "## Check artist information"
   ]
  },
  {
   "cell_type": "code",
   "execution_count": 3,
   "metadata": {},
   "outputs": [
    {
     "data": {
      "text/plain": [
       "{'external_urls': {'spotify': 'https://open.spotify.com/artist/6FdgIggKvVgdMenO8cnnBA'},\n",
       " 'followers': {'href': None, 'total': 3444},\n",
       " 'genres': [],\n",
       " 'href': 'https://api.spotify.com/v1/artists/6FdgIggKvVgdMenO8cnnBA',\n",
       " 'id': '6FdgIggKvVgdMenO8cnnBA',\n",
       " 'images': [{'url': 'https://i.scdn.co/image/ab6761610000e5ebfde7140814b0f28b044447e0',\n",
       "   'height': 640,\n",
       "   'width': 640},\n",
       "  {'url': 'https://i.scdn.co/image/ab67616100005174fde7140814b0f28b044447e0',\n",
       "   'height': 320,\n",
       "   'width': 320},\n",
       "  {'url': 'https://i.scdn.co/image/ab6761610000f178fde7140814b0f28b044447e0',\n",
       "   'height': 160,\n",
       "   'width': 160}],\n",
       " 'name': 'Mayinbito',\n",
       " 'popularity': 43,\n",
       " 'type': 'artist',\n",
       " 'uri': 'spotify:artist:6FdgIggKvVgdMenO8cnnBA'}"
      ]
     },
     "execution_count": 3,
     "metadata": {},
     "output_type": "execute_result"
    }
   ],
   "source": [
    "uri = \"6FdgIggKvVgdMenO8cnnBA\"\n",
    "urn = f\"spotify:artist:{uri}\"\n",
    "sp.artist(urn)"
   ]
  },
  {
   "cell_type": "markdown",
   "metadata": {},
   "source": [
    "## Get list of artists from CSV file"
   ]
  },
  {
   "cell_type": "code",
   "execution_count": 19,
   "metadata": {},
   "outputs": [
    {
     "data": {
      "text/plain": [
       "270"
      ]
     },
     "execution_count": 19,
     "metadata": {},
     "output_type": "execute_result"
    }
   ],
   "source": [
    "artists_csv = \"Bachata Artists (Manual).csv\"\n",
    "\n",
    "with open(artists_csv, \"r\", encoding=\"latin-1\") as f:\n",
    "    artist_list = [\n",
    "        {k: v for k, v in row.items()}\n",
    "        for row in csv.DictReader(f, skipinitialspace=True)\n",
    "    ]\n",
    "artist_ids = [artist[\"id\"] for artist in artist_list]\n",
    "len(artist_list)"
   ]
  },
  {
   "cell_type": "markdown",
   "metadata": {},
   "source": [
    "## Get list of artists from genre"
   ]
  },
  {
   "cell_type": "code",
   "execution_count": 5,
   "metadata": {},
   "outputs": [
    {
     "data": {
      "text/plain": [
       "211"
      ]
     },
     "execution_count": 5,
     "metadata": {},
     "output_type": "execute_result"
    }
   ],
   "source": [
    "artist_list = rr.get_artists()\n",
    "artist_ids = [artist[\"id\"] for artist in artist_list]\n",
    "len(artist_list)"
   ]
  },
  {
   "cell_type": "markdown",
   "metadata": {},
   "source": [
    "## Get list of artists from playlists"
   ]
  },
  {
   "cell_type": "code",
   "execution_count": 10,
   "metadata": {},
   "outputs": [],
   "source": [
    "results = sp.search(q=genre, type=\"playlist\")\n",
    "playlist_ids = []\n",
    "for item in results[\"playlists\"][\"items\"]:\n",
    "    playlist_ids.append(item[\"id\"])"
   ]
  },
  {
   "cell_type": "markdown",
   "metadata": {},
   "source": [
    "**Playlists to search**"
   ]
  },
  {
   "cell_type": "code",
   "execution_count": 6,
   "metadata": {},
   "outputs": [],
   "source": [
    "playlist_ids = [\n",
    "    \"1WqxdhNQyNP2pMNFzQsL5V\",\n",
    "    \"1DjG2D14hqs9YQLQrHhjJe\",\n",
    "    \"2Kg5FsyzdhFEqZ8i5G0YMb\",\n",
    "    \"29RH03JamEHZudGhBRW1Ul\",\n",
    "]"
   ]
  },
  {
   "cell_type": "markdown",
   "metadata": {},
   "source": [
    "**Artists to exclude**"
   ]
  },
  {
   "cell_type": "code",
   "execution_count": 7,
   "metadata": {},
   "outputs": [],
   "source": [
    "artist_ids.extend(\n",
    "    [\n",
    "        \"5gOJTI4TusSENizxhcG7jB\",  # David Bisbal\n",
    "        \"7qG3b048QCHVRO5Pv1T5lw\",  # Enrique Iglesias\n",
    "        \"0txXDZCdXBzha20sgN1GRk\",  # Karen Mendez\n",
    "        \"0tmwSHipWxN12fsoLcFU3B\",  # Manuel Turizo\n",
    "        \"1SupJlEpv7RS2tPNRaHViT\",  # Nicky Jam\n",
    "        \"1i8SpTcr7yvPOmcqrbnVXY\",  # Ozuna\n",
    "        \"7ltDVBr6mKbRvohxheJ9h1\",  # ROSALIA\n",
    "        \"0EmeFodog0BfCgMzAIvKQp\",  # Shakira\n",
    "    ]\n",
    ")"
   ]
  },
  {
   "cell_type": "code",
   "execution_count": 8,
   "metadata": {},
   "outputs": [
    {
     "data": {
      "text/plain": [
       "271"
      ]
     },
     "execution_count": 8,
     "metadata": {},
     "output_type": "execute_result"
    }
   ],
   "source": [
    "for playlist_id in playlist_ids:\n",
    "    results = sp.playlist_items(playlist_id)\n",
    "\n",
    "    for item in results[\"items\"]:\n",
    "        track = item[\"track\"]\n",
    "        for artist in track[\"artists\"]:\n",
    "            artist_id = artist[\"id\"]\n",
    "            if artist_id not in artist_ids:\n",
    "                artist_dict = {\n",
    "                    \"name\": artist[\"name\"],\n",
    "                    \"url\": artist[\"external_urls\"][\"spotify\"],\n",
    "                    \"id\": artist_id,\n",
    "                }\n",
    "                artist_list.append(artist_dict)\n",
    "                artist_ids.append(artist_id)\n",
    "len(artist_list)"
   ]
  },
  {
   "cell_type": "markdown",
   "metadata": {},
   "source": [
    "## Save to CSV file"
   ]
  },
  {
   "cell_type": "code",
   "execution_count": 10,
   "metadata": {},
   "outputs": [],
   "source": [
    "artists_csv = \"Bachata Artists (Manual).csv\"\n",
    "\n",
    "artist_list = sorted(artist_list, key=lambda x: x[\"name\"].lower())\n",
    "\n",
    "\n",
    "with open(artists_csv, \"w\", newline=\"\") as f:\n",
    "\n",
    "    dict_writer = csv.DictWriter(f, artist_list[0].keys())\n",
    "\n",
    "    dict_writer.writeheader()\n",
    "\n",
    "\n",
    "    dict_writer.writerows(artist_list)"
   ]
  },
  {
   "cell_type": "code",
   "execution_count": null,
   "metadata": {},
   "outputs": [],
   "source": []
  }
 ],
 "metadata": {
  "kernelspec": {
   "display_name": "spotify",
   "language": "python",
   "name": "python3"
  },
  "language_info": {
   "codemirror_mode": {
    "name": "ipython",
    "version": 3
   },
   "file_extension": ".py",
   "mimetype": "text/x-python",
   "name": "python",
   "nbconvert_exporter": "python",
   "pygments_lexer": "ipython3",
   "version": "3.12.3"
  }
 },
 "nbformat": 4,
 "nbformat_minor": 2
}
