{
 "cells": [
  {
   "cell_type": "markdown",
   "metadata": {},
   "source": [
    "# New Bachata Playlist"
   ]
  },
  {
   "cell_type": "code",
   "execution_count": 1,
   "metadata": {},
   "outputs": [],
   "source": [
    "import csv\n",
    "from datetime import datetime, timedelta\n",
    "\n",
    "import spotipy\n",
    "from spotipy.oauth2 import SpotifyOAuth"
   ]
  },
  {
   "cell_type": "markdown",
   "metadata": {},
   "source": [
    "## Get the date for last Friday"
   ]
  },
  {
   "cell_type": "code",
   "execution_count": 2,
   "metadata": {},
   "outputs": [
    {
     "name": "stdout",
     "output_type": "stream",
     "text": [
      "The most recent Friday was on 2024-05-31.\n"
     ]
    }
   ],
   "source": [
    "# Get the current date\n",
    "today = datetime.today().date()\n",
    "\n",
    "# Calculate the offset to the second most recent Friday\n",
    "days_back = ((today.weekday() - 4) % 7) + 7\n",
    "\n",
    "# Subtract the offset to get the last Friday\n",
    "threshold_date = today - timedelta(days=days_back)\n",
    "\n",
    "print(f\"The most recent Friday was on {threshold_date}.\")"
   ]
  },
  {
   "cell_type": "markdown",
   "metadata": {},
   "source": [
    "## Authenticate with Spotify"
   ]
  },
  {
   "cell_type": "code",
   "execution_count": 3,
   "metadata": {},
   "outputs": [],
   "source": [
    "client_id = \"f412462e4440495d88e95d8288012f57\"\n",
    "client_secret = \"fbcbcd663d664bf1b2cc1f2cbdd90024\"\n",
    "\n",
    "scope = \"user-library-read playlist-read-private playlist-read-collaborative playlist-modify-public\"\n",
    "auth_manager = SpotifyOAuth(\n",
    "    client_id=client_id,\n",
    "    client_secret=client_secret,\n",
    "    redirect_uri=\"http://localhost:8888/callback\",\n",
    "    scope=scope,\n",
    ")\n",
    "sp = spotipy.Spotify(auth_manager=auth_manager)"
   ]
  },
  {
   "cell_type": "markdown",
   "metadata": {},
   "source": [
    "## Search for bachata artists in playlists"
   ]
  },
  {
   "cell_type": "code",
   "execution_count": 22,
   "metadata": {},
   "outputs": [],
   "source": [
    "search_genre = \"bachata\""
   ]
  },
  {
   "cell_type": "code",
   "execution_count": 25,
   "metadata": {},
   "outputs": [
    {
     "name": "stdout",
     "output_type": "stream",
     "text": [
      "Found 211 artists in the genre 'bachata'.\n"
     ]
    }
   ],
   "source": [
    "artists_list = []\n",
    "\n",
    "# Fetch in batches\n",
    "batch_size = 50  # max=50\n",
    "offset = 0\n",
    "while True:\n",
    "    results = sp.search(\n",
    "        q=f\"genre:{search_genre}\", type=\"artist\", limit=batch_size, offset=offset\n",
    "    )\n",
    "    artists_batch = results[\"artists\"][\"items\"]\n",
    "    for artist_item in artists_batch:\n",
    "        artist_dict = {\n",
    "            \"name\": artist_item[\"name\"],\n",
    "            \"id\": artist_item[\"id\"],\n",
    "        }\n",
    "        artists_list.append(artist_dict)\n",
    "\n",
    "    if len(artists_batch) < batch_size:  # No more results to fetch\n",
    "        break\n",
    "\n",
    "    offset += batch_size\n",
    "\n",
    "print(f\"Found {len(artists_list)} artists in the genre '{search_genre}'.\")"
   ]
  },
  {
   "cell_type": "code",
   "execution_count": 26,
   "metadata": {},
   "outputs": [
    {
     "data": {
      "text/plain": [
       "[{'name': 'Mr. Don', 'id': '12YP3RGVLp3c36Zi6lFRtR'},\n",
       " {'name': 'DJ Tony Pecino', 'id': '0Jc5bLNs5tbmmecIYaURND'},\n",
       " {'name': 'Jhonny Evidence', 'id': '7EndqnY5tR0pzhbVFJr5Zy'},\n",
       " {'name': 'JR', 'id': '3XH9HjOmomIwvkGpYRKIGl'},\n",
       " {'name': 'Daniel Santacruz', 'id': '4tLUnrSgMM7tT0zVs3wX61'},\n",
       " {'name': 'Karlos Rosé', 'id': '6FQPrGwEepUrGKbzD3Zeib'},\n",
       " {'name': 'Johnny Sky', 'id': '3EVZsBWq5KqdtS6eVNHN8d'},\n",
       " {'name': 'Grupo Extra', 'id': '4L5SLCIDWPPNGzrLraYCOS'},\n",
       " {'name': 'Prince Royce', 'id': '3MHaV05u0io8fQbZ2XPtlC'},\n",
       " {'name': 'Luis Segura', 'id': '3xgpQ8RHWeHY9ARr9xkOpp'},\n",
       " {'name': 'Romeo Santos', 'id': '5lwmRuXgjX8xIwlnauTZIP'},\n",
       " {'name': 'Raulin Rodriguez', 'id': '5rvaaWutd0gsbc2iMNo9k5'},\n",
       " {'name': 'Juan Luis Guerra 4.40', 'id': '3nlpTZci9O5W8RsNoNH559'},\n",
       " {'name': 'Aventura', 'id': '1qto4hHid1P71emI6Fd8xi'},\n",
       " {'name': 'Kewin Cosmos', 'id': '1nf6gLEC45OmoJFIxU7aUT'},\n",
       " {'name': 'Héctor Acosta \"El Torito\"', 'id': '4TCAAIMmeZXCTVlHUsicOn'},\n",
       " {'name': 'Luis Vargas', 'id': '6Mjbr8K3MiiRMqmFIB4zWq'},\n",
       " {'name': 'Lirow', 'id': '7DstIz9YAYYupeK7r5tbbs'},\n",
       " {'name': 'Bachata Heightz', 'id': '5zvRX0y0JYtGOmGJwLwyIL'},\n",
       " {'name': 'El Chaval de la Bachata', 'id': '4RnIr0AAau1SBJMbjJ9poC'},\n",
       " {'name': 'Toby Love', 'id': '72R3RMGmSmzG57R7OUaDaN'},\n",
       " {'name': 'Yoskar Sarante', 'id': '5VcamBo0Goh74iFQDqj6Q4'},\n",
       " {'name': 'El Varon de la bachata', 'id': '3VYBdLlzLcwpbLHNhcxpoV'},\n",
       " {'name': 'Elvis Martinez', 'id': '66U02qGDesTqZImnLSiYeE'},\n",
       " {'name': 'Joe Veras', 'id': '3pbg6hZGMHg6G5TiuCh21K'},\n",
       " {'name': 'Xtreme', 'id': '47bVt95bvBMpmJFWoyhH0C'},\n",
       " {'name': 'Daniel Simo', 'id': '4HZGfCiVVgfmaKlvyIF65k'},\n",
       " {'name': 'Frank Reyes', 'id': '4vQV1LCGBdYAt5rIIPjSFZ'},\n",
       " {'name': 'Judy Santos', 'id': '1seU2dut8PjGSZbgrPl7by'},\n",
       " {'name': 'El Jeffrey', 'id': '0WfG4KbWJJoxomK5HH1kSX'},\n",
       " {'name': 'Domenic Marte', 'id': '7EXwl78TqHmZ78cV3sc37C'},\n",
       " {'name': 'Anthony Santos', 'id': '06TVTkMAOR935MhkjX0i2A'},\n",
       " {'name': 'Alex Bueno', 'id': '7esCoLcCoCK7FPa9casAH4'},\n",
       " {'name': 'Andrw John', 'id': '2F1UtPwrswl2pB8crCifIm'},\n",
       " {'name': 'Teodoro Reyes', 'id': '2ElpWA67jmhM6LrDav4Jcy'},\n",
       " {'name': 'Zacarias Ferreira', 'id': '1LKPL2O3vA3ozNsmshDg3o'},\n",
       " {'name': 'Kiko Rodriguez', 'id': '1YYp1qwJ7EAitFINQ7gOKV'},\n",
       " {'name': 'Marino Castellanos', 'id': '5ldlRSivvEgLKIUlrSX3Dz'},\n",
       " {'name': 'Vicente Garcia', 'id': '2Otnykd696YidQYfEGVmNq'},\n",
       " {'name': 'Monchy & Alexandra', 'id': '3rs3EOlJ8jyPpdGiQ9Mhub'},\n",
       " {'name': 'Carlos y Alejandra', 'id': '198g5ZZS90C4PnJ7E1dVjA'},\n",
       " {'name': 'Leonardo Paniagua', 'id': '3Kml6GsFtC3qYpQJLOlt1P'},\n",
       " {'name': 'Juan Bautista', 'id': '1HT6moiiAuK2vQYbMlzR90'},\n",
       " {'name': 'Ralphy Dreamz', 'id': '5elxYg57OGXnqXm6wZDmvm'},\n",
       " {'name': 'Leslie Grace', 'id': '6BeO1KuAWBqFriL1mLHtNc'},\n",
       " {'name': 'Luis Miguel Del Amargue', 'id': '0tJDMMp9vT1q6zrPih0yFQ'},\n",
       " {'name': 'Vikina', 'id': '0acSKGMIRsorWH3cQd5JrE'},\n",
       " {'name': 'Andy Andy', 'id': '6uEyybDR7K1r88t6iT1oBw'},\n",
       " {'name': 'Los Toros Band', 'id': '4cBjJBPtvetlysjjojDLUA'},\n",
       " {'name': 'Elvis Martinez El Camarón', 'id': '0lk9ZWji6LAxpqlfcXMspP'},\n",
       " {'name': 'DJ Tronky', 'id': '5G3p1Ju6ZzScqAropTMkJG'},\n",
       " {'name': 'Manny Rod', 'id': '18tdJvI6qutPImA2Hgdlyv'},\n",
       " {'name': 'Johandy', 'id': '1CitJ6r1mhjof0XLq0BMHQ'},\n",
       " {'name': 'DJ Khalid', 'id': '5Jzy4kcxChcbcL2Z6QQRUI'},\n",
       " {'name': 'Jiory', 'id': '4RLGPkFaRFlkPNFzVbcd6k'},\n",
       " {'name': 'Henry Santos', 'id': '1cUfMJtWJXfhTQvYGJQtaF'},\n",
       " {'name': 'Esme', 'id': '51hTX3T6GC1KV9OUeadLs9'},\n",
       " {'name': 'Mickey Then', 'id': '6Xu0RsSkyZCkBUXDiRvyMT'},\n",
       " {'name': 'Vinny Rivera', 'id': '16KwTAKkQMkBVS0Fuz2vpt'},\n",
       " {'name': 'Optimo', 'id': '37tpydsl5wICltyf0U7iHM'},\n",
       " {'name': 'Joan Soriano', 'id': '6lNQpovRbGoGOWjRHkP8ry'},\n",
       " {'name': 'Frankie Negrón', 'id': '3QPEwHBLL8xX8p8HaT4S16'},\n",
       " {'name': 'Ephrem J', 'id': '4TtPGFl8psQJgMDEcI5oWZ'},\n",
       " {'name': 'Chavi Leons', 'id': '2NpvOJUmcKkw4BEVsVbUcx'},\n",
       " {'name': '24 Horas', 'id': '26tM7QuWssfjMPfOUPaHxY'},\n",
       " {'name': 'Joel Santos', 'id': '7pQKmVxIJROJ9FpYq3cLie'},\n",
       " {'name': 'Jay Ramirez', 'id': '1DdkaTtHfuRmJr0FRD8NGB'},\n",
       " {'name': 'Robin Cariño', 'id': '5r3RmHZHtOGzonkZFSYSZ6'},\n",
       " {'name': 'Marco Puma', 'id': '5zRyKXpHPRHXXdIEwCHWkW'},\n",
       " {'name': 'DJ Manuel Citro', 'id': '3CChhOWvwwUSCntaZJ3cs8'},\n",
       " {'name': 'Dama', 'id': '5YvnPJFWHBBV8SkjvzGWHT'},\n",
       " {'name': 'Chicho Severino', 'id': '1wTD4g0RwsDBhGj16YQJeu'},\n",
       " {'name': 'Krisspy', 'id': '5EG8kX3NJR8Az7XKu4Czu7'},\n",
       " {'name': 'Alexandra', 'id': '6sOhwBjVzpiEBAYEWYwDoX'},\n",
       " {'name': 'Ramón Torres', 'id': '5RFkfo2rjQthfwFslYtlNc'},\n",
       " {'name': 'Vicky Corbacho', 'id': '7kBbhj7hrbWjrEnp5OBY3k'},\n",
       " {'name': 'Tony Berroa', 'id': '3sROTY59xu7crUJ3Tmelgq'},\n",
       " {'name': 'JFab & Paola Fabre', 'id': '1652mfhXA8ApJ7devxmKds'},\n",
       " {'name': 'Dustin Richie', 'id': '0RmDR7kGs0uAHOs8dfUUlV'},\n",
       " {'name': 'Edwin Jay', 'id': '1ljsKXflETc6tKGFOlsZbN'},\n",
       " {'name': 'Eladio Romero Santos', 'id': '4jicruFbQoP1EpxBf9HMp6'},\n",
       " {'name': 'Juan Manuel', 'id': '2ytFwBb0KBIUGtnsIyC5mG'},\n",
       " {'name': 'sP Polanco', 'id': '3ZK68DhfWiJTIUZySAywPS'},\n",
       " {'name': 'Bolivar Peralta', 'id': '05BimyoMbuMGEBJjSRDK0a'},\n",
       " {'name': 'Ryan Miles', 'id': '0N35WwFBpBKjx9UH5CtZKX'},\n",
       " {'name': 'Andy Santiago El Relevo', 'id': '4iA7Rp6k6AhAXaUQhNVs1Z'},\n",
       " {'name': 'El Gringo De La Bachata', 'id': '6ByP3EiKbSlgvP0tIIXBkH'},\n",
       " {'name': 'Junior & Jorge', 'id': '08Y8lyLej3SbV3BUILPp2d'},\n",
       " {'name': 'Yenddi', 'id': '4pergvNsYlbWJg7TX6ISbp'},\n",
       " {'name': 'Vicente Cifuentes', 'id': '3b06h05NjiPizwnTeGybfG'},\n",
       " {'name': 'Jalil Lopez', 'id': '1lE4AVltTIHnpsWVdN58jN'},\n",
       " {'name': 'Allendi', 'id': '4rhFegSWsEQLURjydI2CZD'},\n",
       " {'name': 'The Latin Dance Machine', 'id': '65tDFkGSE6HgE86soyuDVK'},\n",
       " {'name': 'Vena', 'id': '6lt3lJcAlHKrDfDZuKscZd'},\n",
       " {'name': 'Marino Perez', 'id': '4CUaw25QTAfWb6wA0yWPrN'},\n",
       " {'name': 'Chiko Swagg', 'id': '0zz9lzzQBgwxEDsYHy0H2n'},\n",
       " {'name': 'Domenica', 'id': '2Sx37QWa4qXUVVDI67pTvX'},\n",
       " {'name': 'Adrian Valdez', 'id': '0X44vwQwj2RNjeYbhNLgDT'},\n",
       " {'name': 'Jaudy', 'id': '482w6SuAShFPgge3PuRmO3'},\n",
       " {'name': 'Jensy', 'id': '2vry92stbS09o8JZguESox'},\n",
       " {'name': 'Senor Bachata', 'id': '32pCi652r3x1rEIAJiW3O9'},\n",
       " {'name': 'Tony Santos', 'id': '1wZQNJWRvn2M6H8ecIUXce'},\n",
       " {'name': 'Principes De La Bachata', 'id': '1SI9Th3DDe9tZO5uWqfcbs'},\n",
       " {'name': 'Kewdy De Los Santos', 'id': '09WWjWKYbCMbZ6PdK7AdHh'},\n",
       " {'name': 'DJ Soltrix', 'id': '7ddXuoSxNGgEbnr1BFY0vZ'},\n",
       " {'name': 'Ronny Dae', 'id': '17HJR2gstJGAQPmpi1svId'},\n",
       " {'name': 'Cosimo', 'id': '5My9FdCsKG7pVppAVEClPc'},\n",
       " {'name': 'Alejandra Feliz', 'id': '5VFiqu8WfvfKB1BMVthfVV'},\n",
       " {'name': 'Kelvy Jai', 'id': '3vLYXecLjL1QMINDiNNkFA'},\n",
       " {'name': 'Sasha X', 'id': '5BbKW0kObp41qCbD9EKh3e'},\n",
       " {'name': 'Voz A Voz', 'id': '0gp7iviru0HlUR7yGmiLJ7'},\n",
       " {'name': 'Optimo', 'id': '13w92E4gddj6OQbFFNX7f0'},\n",
       " {'name': 'Bori', 'id': '2Oe9eh730bCc6KpqVo4ugt'},\n",
       " {'name': 'Dioris', 'id': '6cgmoXkUmse8US0HWT8N5Y'},\n",
       " {'name': 'Jeyro', 'id': '4CKFvOBEsQCkAcx8gEVMbC'},\n",
       " {'name': 'Felix Cumbe', 'id': '1eDvtTsWtZl6qRfdjq8uyr'},\n",
       " {'name': 'Davicito Paredes', 'id': '7CSzsnroeJagCYa73yUwgT'},\n",
       " {'name': 'Franklin Medina', 'id': '1WEakHjDCqrOuEtLvAZDVc'},\n",
       " {'name': 'Melvin War', 'id': '7lf4ubebPjgnR8j25Gl32T'},\n",
       " {'name': 'Jose Manuel El Sultan', 'id': '4ze16F7YGNcVevcJqCNn6V'},\n",
       " {'name': 'Sencillamente Joe', 'id': '2323C9mArjMpHIBujXDYw5'},\n",
       " {'name': 'Rc Santy', 'id': '447qdj25DgrnEypA4sjDr1'},\n",
       " {'name': 'Bienvenido Rodríguez', 'id': '65R1jKVRmV6Xq9HTZoXN9d'},\n",
       " {'name': 'Circharles', 'id': '7h9r1hKkJ7FGA6k5vjiz1i'},\n",
       " {'name': 'Liza + Willie', 'id': '0uwNjcUHYdSlPs2IJhJoOq'},\n",
       " {'name': 'Loisaidas', 'id': '7yf5lI3yndnQlkqbvJrxnw'},\n",
       " {'name': 'Yunel', 'id': '0mTBRMGmIlPdcYyXUrG6A1'},\n",
       " {'name': 'Blas Duran', 'id': '0N8kOoceUhHFL16Rhe5rvb'},\n",
       " {'name': 'Edilio Paredes', 'id': '6CK0w06BFOXaSqJpDi35ht'},\n",
       " {'name': 'Eudis El Invencible', 'id': '2lbsPrfRH7aDnhUNnze8Dq'},\n",
       " {'name': 'Fran Rozzano', 'id': '0izyCDkDQ10PWDNNB2i5nA'},\n",
       " {'name': 'Wellington Toribio', 'id': '4CCZi4dDJmy1crU8XnBzpc'},\n",
       " {'name': 'Eunel Nueva Era', 'id': '0LWkZJdejwQ7Ojm1xbitEB'},\n",
       " {'name': 'Willy Castro (El Rey Joven)', 'id': '0f9uBeiFz3GqxmLRGR7a6c'},\n",
       " {'name': 'Luna Llena', 'id': '0KbDvkieJHAKnRaxyFWkbU'},\n",
       " {'name': 'EliaCiM', 'id': '15I1Vl5xqVhvk8glRqFmpB'},\n",
       " {'name': 'Wander Manuel', 'id': '4apCelUAqQov93GxuSJFoC'},\n",
       " {'name': 'Alejandro', 'id': '0PqWLqUlrkWtdPXwzBVi8T'},\n",
       " {'name': 'Richie Ortega', 'id': '7soRkD7EfsVuOpd3nNem5O'},\n",
       " {'name': 'Daniel Segura', 'id': '31mWYrrMwZuieiYfigvnyk'},\n",
       " {'name': 'Grupo Rush', 'id': '5w0ElGXChVRIePkOgIs7O4'},\n",
       " {'name': 'Chelion', 'id': '55eygfkPXIvtL3Uk2pnVZZ'},\n",
       " {'name': 'Jose Manuel Calderon', 'id': '2O8eNYAp262V5QHDb1ZGLj'},\n",
       " {'name': 'Antony Santos El Mayimbe', 'id': '4blLzqu6gM7q0Qe4V9rF5w'},\n",
       " {'name': 'Jaime Zabala', 'id': '030UYIXTJTDp58btSWKDEx'},\n",
       " {'name': 'Sandronyc', 'id': '5kmkNsW1vHzkOiG5nB3jsp'},\n",
       " {'name': 'Alex Rosario', 'id': '3ztHF79mZoAs9TQDiYLMPh'},\n",
       " {'name': 'Luiggy Luiggy', 'id': '4uLL6AUCIe56rQHUfHdxFU'},\n",
       " {'name': 'Lucho Panic', 'id': '2bpa42IKJCGSWKyFsH4HP6'},\n",
       " {'name': 'Jona Camacho', 'id': '0t64OqoqDgnfJee9Z6IBOP'},\n",
       " {'name': 'Luis Gonzalez el Bachatero', 'id': '4AM3KtZpwkSuHCL7qm8leh'},\n",
       " {'name': 'Danny-D (Xtreme)', 'id': '182BtBRzZmzXJ9WPJanjl8'},\n",
       " {'name': 'El Gualdia', 'id': '3svFD2ahDAUETN6Nm1kNIl'},\n",
       " {'name': 'Ricky Manuel', 'id': '4r6gSFAVS4tcNKSzbgqmce'},\n",
       " {'name': 'OXU & BREY', 'id': '6MIEE7Vbb8DssygDodvqMd'},\n",
       " {'name': 'Danny D', 'id': '0O3MgBu4PvcbR0BpxiUhHb'},\n",
       " {'name': 'Hajime Waki', 'id': '3nOVhSI47LSLjCwJ5aDTrK'},\n",
       " {'name': 'J-Dream', 'id': '43UkDk4JiVnOIVZdMHhO0Z'},\n",
       " {'name': 'J-Style', 'id': '45H88rAPqwPRQTAyn2ItI2'},\n",
       " {'name': 'Jashel', 'id': '4lQKbWr5TV5pTaU9WdRkKW'},\n",
       " {'name': 'Urbano Prodigy', 'id': '29fI2Jf2U5PjWxjimztdMt'},\n",
       " {'name': 'Jessy Rose', 'id': '3X4fE5VMqUB9ByyNLzTfgv'},\n",
       " {'name': 'Steve Styles', 'id': '593zKo18gZOTOFt2CzLBxu'},\n",
       " {'name': 'Wladi Paz', 'id': '2gEhhxjvyOtFAcrIGJrb2e'},\n",
       " {'name': 'El Chivo Sin Ley', 'id': '7djlVvKsS054ML937ld981'},\n",
       " {'name': 'Willy Castro', 'id': '2xJrqBSd0TZYSqzzvL4Mbk'},\n",
       " {'name': 'Pepe Corniel', 'id': '6p15rDl8RJ2klm07YI9unQ'},\n",
       " {'name': 'Piero Spombo', 'id': '6KcruMVjpG8GR8LIxFfxKu'},\n",
       " {'name': 'Telwin Cruz', 'id': '2e4XLsTwamlISwzaxeIowR'},\n",
       " {'name': 'Alexander La Esencia', 'id': '641xZLVCNfAbWAGak3f6S2'},\n",
       " {'name': 'He Pepo', 'id': '5fVK7ngflTR9Cz8sC1pXcW'},\n",
       " {'name': 'Memin El Sucesor', 'id': '1KshYq2zHdP0eNnHQ96Okn'},\n",
       " {'name': 'DNA Latin Group', 'id': '1b5LcY1kx3uupUaJtI3XLm'},\n",
       " {'name': 'Daniel Morillo', 'id': '0i3cv2cRqH363p6zBZvcmK'},\n",
       " {'name': 'Bea J', 'id': '5lPIqNeqjcmrfSiTS2TNgq'},\n",
       " {'name': 'Distrito Zero', 'id': '55omsI9UNRTcI9iJBQokn5'},\n",
       " {'name': 'Jose El Galan', 'id': '4iuco8hlIcTejsZiu0ZT5d'},\n",
       " {'name': 'Luigi Arias', 'id': '0vqQX1bA5106eQYUHybFKA'},\n",
       " {'name': 'Enrique Ogando', 'id': '5PNUAtSsQQZambzVq1E4zz'},\n",
       " {'name': 'Aridia Ventura', 'id': '6a4gY8o7VoHJtQNiJlRHiP'},\n",
       " {'name': 'Papo La Chercha', 'id': '6D9iNTqJ3ysZtfHUWgqXRZ'},\n",
       " {'name': 'Rubén Del Rio', 'id': '0bMwbdbcgVF5Q1ZVRvZiv5'},\n",
       " {'name': 'Rey John', 'id': '7iXg7b4XwYhAb8yNAqb36S'},\n",
       " {'name': 'Carla Sanz', 'id': '4fZuppofJPA55vShzBAOtZ'},\n",
       " {'name': 'Kamilo', 'id': '02SKkZF4RBcoXDMw7IfQdA'},\n",
       " {'name': 'Raphy Mi Corillo', 'id': '1mc7K4BgF98dnKL96iDn8R'},\n",
       " {'name': 'Grupo Emocion', 'id': '3Uysh94SIie6I9YStRNae8'},\n",
       " {'name': 'Juan Lan Franco', 'id': '1G7F0DFeoqFStaycbV28ji'},\n",
       " {'name': 'Álvaro Ríos', 'id': '3w33wRQKOeeiJGAbfyBpf2'},\n",
       " {'name': 'John Odino', 'id': '4GqJW5H4Y82mT6RupLZ4zJ'},\n",
       " {'name': 'Edward Diaz', 'id': '4zGDoBDmxEp73bdykmogex'},\n",
       " {'name': 'Rafael Encarnación', 'id': '4E8IDEgvE8oyb5sqvfeTOp'},\n",
       " {'name': 'Danny El Papi', 'id': '26QmriCK2nxKCVejxYElbB'},\n",
       " {'name': 'Solo 2', 'id': '03Irv6D1dNb8T5kyWvgR7O'},\n",
       " {'name': 'Ramon Torres', 'id': '6rtyiD9r72ac3jvwcu9NPM'},\n",
       " {'name': 'Many Many', 'id': '7xZQ7A7XlNfzB6jei1zEud'},\n",
       " {'name': 'Elvis Tapia', 'id': '0RU8aNtqkbVYa2lTTfq48u'},\n",
       " {'name': 'Jhony Rijo', 'id': '7MLGIWE7VVz7AotdLZZlOx'},\n",
       " {'name': 'Monchy', 'id': '5uK0DEv7wk3fZaR6pcukAS'},\n",
       " {'name': 'Vidas', 'id': '7qpMOcM6lrXGzRujDRkFB9'},\n",
       " {'name': 'Andy Andy Feat. Bachata Plus', 'id': '66P5piOD8SnzKwVo3ZdYdX'},\n",
       " {'name': 'Andres Reinell La Verdad', 'id': '1b8JCB91iziBksp4II5fIJ'},\n",
       " {'name': 'Danny D Xtreme', 'id': '7mKSsRyyCIZeKC15O2gCRX'},\n",
       " {'name': 'Aridia Ventura', 'id': '6a4gY8o7VoHJtQNiJlRHiP'},\n",
       " {'name': 'Papo La Chercha', 'id': '6D9iNTqJ3ysZtfHUWgqXRZ'},\n",
       " {'name': 'Carla Sanz', 'id': '4fZuppofJPA55vShzBAOtZ'},\n",
       " {'name': 'Juan Lan Franco', 'id': '1G7F0DFeoqFStaycbV28ji'},\n",
       " {'name': 'Álvaro Ríos', 'id': '3w33wRQKOeeiJGAbfyBpf2'},\n",
       " {'name': 'Solo 2', 'id': '03Irv6D1dNb8T5kyWvgR7O'},\n",
       " {'name': 'Monchy', 'id': '5uK0DEv7wk3fZaR6pcukAS'},\n",
       " {'name': 'Raudy y Mariela', 'id': '3QP54sE4jiGprjEa5BGjdc'}]"
      ]
     },
     "execution_count": 26,
     "metadata": {},
     "output_type": "execute_result"
    }
   ],
   "source": [
    "with open(f\"{search_genre}_artists.csv\", \"w\", newline=\"\") as f:\n",
    "    dict_writer = csv.DictWriter(f, artists_list[0].keys())\n",
    "    dict_writer.writeheader()\n",
    "    dict_writer.writerows(artists_list)\n",
    "\n",
    "artists_list"
   ]
  },
  {
   "cell_type": "markdown",
   "metadata": {},
   "source": [
    "## Search for new songs by bachata artists"
   ]
  },
  {
   "cell_type": "code",
   "execution_count": 29,
   "metadata": {},
   "outputs": [
    {
     "name": "stdout",
     "output_type": "stream",
     "text": [
      "Fetching albums for Mr. Don...\n"
     ]
    }
   ],
   "source": [
    "new_songs = []\n",
    "for artist in artists_list[0:1]:\n",
    "    print(f\"Fetching albums for {artist['name']}...\")\n",
    "    results = sp.artist_albums(artist[\"id\"])\n",
    "    for album in results[\"items\"]:\n",
    "        release_date_str = album[\"release_date\"]\n",
    "        release_date_precision = album[\"release_date_precision\"]\n",
    "        if release_date_precision == \"day\":\n",
    "            release_date = datetime.strptime(release_date_str, \"%Y-%m-%d\").date()\n",
    "        elif release_date_precision == \"month\":\n",
    "            release_date = datetime.strptime(release_date_str, \"%Y-%m\").date()\n",
    "        elif release_date_precision == \"year\":\n",
    "            release_date = datetime.strptime(release_date_str, \"%Y\").date()\n",
    "\n",
    "        if release_date >= threshold_date:\n",
    "            # TODO: Check if the album is already in the list\n",
    "            # TODO: Check if the album is a compilation\n",
    "            album_details = sp.album(album[\"id\"])\n",
    "            for track in album_details[\"tracks\"][\"items\"]:\n",
    "                song_dict = {\n",
    "                    \"song\": track[\"name\"],\n",
    "                    \"artist\": track[\"artists\"][0][\"name\"],\n",
    "                    \"album\": album[\"name\"],\n",
    "                    \"album_type\": album[\"album_type\"],\n",
    "                    \"release_date\": str(release_date),\n",
    "                    \"id\": track[\"id\"],\n",
    "                }\n",
    "                new_songs.append(song_dict)\n",
    "track_ids = [track[\"id\"] for track in new_songs if track[\"id\"] not in track_ids]"
   ]
  },
  {
   "cell_type": "code",
   "execution_count": null,
   "metadata": {},
   "outputs": [
    {
     "data": {
      "text/plain": [
       "[{'id': '1cKuAgP3gKxj0nuQ2xqYmt',\n",
       "  'song': 'Live Session',\n",
       "  'artist': 'Johnny Sky',\n",
       "  'album': 'Live Session',\n",
       "  'album_type': 'single',\n",
       "  'release_date': '2024-05-09'},\n",
       " {'id': '7dLhnNR9x9kn8EnS1WWwa9',\n",
       "  'song': \"Ponte Pa' Mi - Bachata Version 2.0\",\n",
       "  'artist': 'DJ Tony Pecino',\n",
       "  'album': \"Ponte Pa' Mi (Bachata Version 2.0)\",\n",
       "  'album_type': 'single',\n",
       "  'release_date': '2024-05-10'},\n",
       " {'id': '1sI9c9rGGdYeGE6nQQCAYQ',\n",
       "  'song': \"Hecha Pa' Mi - Bachata Version 2.0\",\n",
       "  'artist': 'DJ Tony Pecino',\n",
       "  'album': \"Hecha Pa' Mi (Bachata Version 2.0)\",\n",
       "  'album_type': 'single',\n",
       "  'release_date': '2024-05-03'}]"
      ]
     },
     "execution_count": 69,
     "metadata": {},
     "output_type": "execute_result"
    }
   ],
   "source": [
    "playlist_name = f\"Automated New Bachata - {threshold_date.month:02d}-{threshold_date.day:02d} to {f\"{today.month:02d}-{today.day:02d}\"}\"\n",
    "\n",
    "with open(f\"{playlist_name}.csv\", \"w\", newline=\"\") as f:\n",
    "    dict_writer = csv.DictWriter(f, new_songs[0].keys())\n",
    "    dict_writer.writeheader()\n",
    "    dict_writer.writerows(new_songs)\n",
    "    \n",
    "new_songs"
   ]
  },
  {
   "cell_type": "markdown",
   "metadata": {},
   "source": [
    "## Add songs to playlist"
   ]
  },
  {
   "cell_type": "code",
   "execution_count": null,
   "metadata": {},
   "outputs": [],
   "source": [
    "playlist_id = \"16GAR1gl8pCjmaiplCr5xr\"\n",
    "sp.playlist_replace_items(playlist_id, track_ids)\n",
    "sp.playlist_change_details(\n",
    "    playlist_id,\n",
    "    name=playlist_name,\n",
    "    description=f\"Automated playlist with new Bachata songs from {threshold_date} to {today.date()}.\",\n",
    ")"
   ]
  }
 ],
 "metadata": {
  "kernelspec": {
   "display_name": "spotify",
   "language": "python",
   "name": "python3"
  },
  "language_info": {
   "codemirror_mode": {
    "name": "ipython",
    "version": 3
   },
   "file_extension": ".py",
   "mimetype": "text/x-python",
   "name": "python",
   "nbconvert_exporter": "python",
   "pygments_lexer": "ipython3",
   "version": "3.12.3"
  }
 },
 "nbformat": 4,
 "nbformat_minor": 2
}
